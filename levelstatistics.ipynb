{
 "cells": [
  {
   "cell_type": "markdown",
   "metadata": {},
   "source": [
    "## Level statistics for integrable and non-integrable spin chains\n",
    "A common used fact for determining ergodicity in a quantum system is the fact of level repulsion, which is determined by the spacing between the energy levels of a quantum system respectively their Hamiltonians. Therefore we not study the dynamics of the system ( as we did in introduction.ipynb) but the structure of Hamiltonians for different types of spin chains.\n",
    "An non ergodic system will follow a Poissonian distribution of level spacings, while a ergodic system shows the form of the Wigner Dyson distribution. Both are simple function of the spacing, which are defined later. If you want to get a better overview of the physics behind level spacings take a look at bsc.pdf."
   ]
  },
  {
   "cell_type": "code",
   "execution_count": 1,
   "metadata": {
    "collapsed": true
   },
   "outputs": [],
   "source": [
    "#Import all needed functions\n",
    "import numpy as np\n",
    "import matplotlib.pyplot as plt\n",
    "%matplotlib inline\n",
    "\n",
    "#imports from local helper files\n",
    "from qm_helper import constructHamilton\n",
    "from np_helper import state_to_num\n",
    "from permutations import special_perm"
   ]
  },
  {
   "cell_type": "markdown",
   "metadata": {},
   "source": [
    "We need to construct the Hamiltonian (as before in introduction.ipynb). We consider here 4 types of systems: Integrable, Defect, weak and strong disordered. Thus we get 4 Hamiltonians for which we can check the level spacing."
   ]
  },
  {
   "cell_type": "code",
   "execution_count": 2,
   "metadata": {
    "collapsed": true
   },
   "outputs": [],
   "source": [
    "#Set system dimensions\n",
    "N = 12\n",
    "j = 6\n",
    "\n",
    "#Coupling constants\n",
    "J = 1 \n",
    "r = 0.5\n",
    "\n",
    "#System states\n",
    "states = state_to_num(special_perm(N,j))\n",
    "\n",
    "#Integrable system\n",
    "epsilons = np.zeros(N)\n",
    "ham_int = constructHamilton(states,J,r,epsilons,N).todense()\n",
    "#Defect system\n",
    "epsilons[j] = r\n",
    "ham_def = constructHamilton(states,J,r,epsilons,N).todense()\n",
    "#Weak disordered system\n",
    "epsilons = np.random.uniform(-0.2,0.2,N)\n",
    "ham_weakdis = constructHamilton(states,J,r,epsilons,N).todense()\n",
    "#Strong disordered system\n",
    "epsilons = np.random.uniform(-3,3,N)\n",
    "ham_strongdis = constructHamilton(states,J,r,epsilons,N).todense()"
   ]
  },
  {
   "cell_type": "markdown",
   "metadata": {},
   "source": [
    "In order to obtain the eigenvalues we need to diagonalize these Hamiltonians. This is done using NumPy function (even though this might not be the fastest way!). Afterwars we sort the eigenvalues in increasing order."
   ]
  },
  {
   "cell_type": "code",
   "execution_count": 3,
   "metadata": {
    "collapsed": true
   },
   "outputs": [],
   "source": [
    "eigvals_int = np.sort(np.linalg.eigvals(ham_int))\n",
    "eigvals_def = np.sort(np.linalg.eigvals(ham_def))\n",
    "eigvals_weakdis = np.sort(np.linalg.eigvals(ham_weakdis))\n",
    "eigvals_strongdis = np.sort(np.linalg.eigvals(ham_strongdis))"
   ]
  },
  {
   "cell_type": "markdown",
   "metadata": {},
   "source": [
    "The most important part is to unfold the eigenspectrum. This is done by seperating the large number of eigenvalues into smaller sections and normalize them with the mean level spacing in their section. Therefore we need a function that calculates the level spacings of a section (i.e. array of eigenenergies). Also we need a function that unfolds the spectrum given a number of sections the energies should be divided to.\n",
    "Additionaly we define the functions for Poissonian distribution and the Wigner Dyson (Gaussian Orthogonal Ensemble)."
   ]
  },
  {
   "cell_type": "code",
   "execution_count": 4,
   "metadata": {
    "collapsed": true
   },
   "outputs": [],
   "source": [
    "#Function that returns level spacings for an array of eigenenergies\n",
    "def levelspacing(arr):\n",
    "    return np.abs(np.ediff1d(arr))\n",
    "\n",
    "#Function to unfold the eigenenergies given a number of division sections\n",
    "def unfold(energies, num_sections):\n",
    "    subs = np.array_split(energies,num_sections)\n",
    "    for i in range(num_sections):\n",
    "        subs[i] = subs[i] / np.mean(levelspacing(subs[i]))\n",
    "    return np.concatenate(subs)   \n",
    "\n",
    "#Poissonian distribution\n",
    "def poisson(s):\n",
    "    return np.exp(-s)\n",
    "\n",
    "#Wigner Dyson distribution\n",
    "def wignerdyson(s):\n",
    "    return np.pi*s/2*np.exp(-np.pi*s**2/4)"
   ]
  },
  {
   "cell_type": "markdown",
   "metadata": {},
   "source": [
    "Now we can unfold the spectrum of each system variation. Note that the resultin spacing is dependent on the choice of number of sections."
   ]
  },
  {
   "cell_type": "code",
   "execution_count": 5,
   "metadata": {},
   "outputs": [],
   "source": [
    "spacings_int = levelspacing(unfold(eigvals_int,1))\n",
    "spacings_def = levelspacing(unfold(eigvals_def,200))\n",
    "spacings_weakdis = levelspacing(unfold(eigvals_weakdis,200))\n",
    "spacings_strongdis = levelspacing(unfold(eigvals_strongdis,10))"
   ]
  },
  {
   "cell_type": "markdown",
   "metadata": {},
   "source": [
    "As a last step we plot the level spacings with the two distributions. We observe that the integrable and strong disordered system follow the Poissonian distribution. The other to system show a indication of ergodicity, while they are following the Wigner-Dyson distribution."
   ]
  },
  {
   "cell_type": "code",
   "execution_count": 6,
   "metadata": {},
   "outputs": [
    {
     "data": {
      "text/plain": [
       "<matplotlib.legend.Legend at 0x7f147e28b438>"
      ]
     },
     "execution_count": 6,
     "metadata": {},
     "output_type": "execute_result"
    },
    {
     "data": {
      "image/png": "[encoded data removed]",
      "text/plain": [
       "<matplotlib.figure.Figure at 0x7f147fb6b630>"
      ]
     },
     "metadata": {},
     "output_type": "display_data"
    }
   ],
   "source": [
    "#Plot the distributions\n",
    "x = np.linspace(0,4,50)\n",
    "plt.plot(x,poisson(x),label='Poisson')\n",
    "plt.plot(x,wignerdyson(x),label='Wigner-Dyson')\n",
    "#Plot the Spacings\n",
    "plt.hist(spacings_int,bins=50,range=(0,4),histtype=u'step',normed=True,label='Integrable',alpha=0.5)\n",
    "plt.hist(spacings_def,bins=50,range=(0,4),histtype=u'step',normed=True,label='Defect',alpha=0.5)\n",
    "plt.hist(spacings_weakdis,bins=50,range=(0,4),histtype=u'step',normed=True,label='Weak Disorder',alpha=0.5)\n",
    "plt.hist(spacings_strongdis,bins=50,range=(0,4),histtype=u'step',normed=True,label='Strong Disorder',alpha=0.5)\n",
    "#Figure setups\n",
    "plt.xlabel('Level spacing')\n",
    "plt.ylim(0,1)\n",
    "plt.legend()"
   ]
  }
 ],
 "metadata": {
  "kernelspec": {
   "display_name": "Python 3",
   "language": "python",
   "name": "python3"
  },
  "language_info": {
   "codemirror_mode": {
    "name": "ipython",
    "version": 3
   },
   "file_extension": ".py",
   "mimetype": "text/x-python",
   "name": "python",
   "nbconvert_exporter": "python",
   "pygments_lexer": "ipython3",
   "version": "3.6.0"
  }
 },
 "nbformat": 4,
 "nbformat_minor": 2
}
