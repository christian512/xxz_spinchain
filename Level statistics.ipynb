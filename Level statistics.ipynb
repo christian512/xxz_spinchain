{
 "cells": [
  {
   "cell_type": "markdown",
   "metadata": {},
   "source": [
    "## Level statistics for integrable and non-integrable spin chains\n",
    "A common used fact for determining ergodicity in a quantum system is the fact of level repulsion, which is determined by the spacing between the energy levels of a quantum system respectively their Hamiltonians. Therefore we not study the dynamics of the system ( as we did in introduction.ipynb) but the structure of Hamiltonians for different types of spin chains. "
   ]
  },
  {
   "cell_type": "code",
   "execution_count": 1,
   "metadata": {
    "collapsed": true
   },
   "outputs": [],
   "source": [
    "#Import all needed functions\n",
    "import numpy as np\n",
    "import matplotlib.pyplot as plt\n",
    "%matplotlib inline\n",
    "\n",
    "#imports from local helper files\n",
    "from qm_helper import constructHamilton\n",
    "from np_helper import state_to_num\n",
    "from permutations import special_perm"
   ]
  },
  {
   "cell_type": "markdown",
   "metadata": {},
   "source": [
    "We need to construct the Hamiltonian (as before in introduction.ipynb). We consider here 4 types of systems: Integrable, Defect, weak and strong disordered. Thus we get 4 Hamiltonians for which we can check the level spacing."
   ]
  },
  {
   "cell_type": "code",
   "execution_count": 9,
   "metadata": {
    "collapsed": true
   },
   "outputs": [],
   "source": [
    "#Set system dimensions\n",
    "N = 12\n",
    "j = 6\n",
    "\n",
    "#Coupling constants\n",
    "J = 1 \n",
    "r = 0.5\n",
    "\n",
    "#System states\n",
    "states = state_to_num(special_perm(N,j))\n",
    "\n",
    "#Integrable system\n",
    "epsilons = np.zeros(N)\n",
    "ham_int = constructHamilton(states,J,r,epsilons,N).todense()\n",
    "#Defect system\n",
    "epsilons[j] = r\n",
    "ham_def = constructHamilton(states,J,r,epsilons,N).todense()\n",
    "#Weak disordered system\n",
    "epsilons = np.random.uniform(-0.2,0.2,N)\n",
    "ham_weakdis = constructHamilton(states,J,r,epsilons,N).todense()\n",
    "#Strong disordered system\n",
    "epsilons = np.random.uniform(-3,3,N)\n",
    "ham_strongdis = constructHamilton(states,J,r,epsilons,N).todense()"
   ]
  },
  {
   "cell_type": "markdown",
   "metadata": {},
   "source": [
    "In order to obtain the eigenvalues we need to diagonalize these Hamiltonians. This is done using NumPy function (even though this might not be the fastest way!). Afterwars we sort the eigenvalues in increasing order."
   ]
  },
  {
   "cell_type": "code",
   "execution_count": 10,
   "metadata": {},
   "outputs": [],
   "source": [
    "eigvals_int = np.sort(np.linalg.eigvals(ham_int))\n",
    "eigvals_def = np.sort(np.linalg.eigvals(ham_def))\n",
    "eigvals_weakdis = np.sort(np.linalg.eigvals(ham_weakdis))\n",
    "eigvals_strongdis = np.sort(np.linalg.eigvals(ham_strongdis))"
   ]
  },
  {
   "cell_type": "markdown",
   "metadata": {},
   "source": [
    "The most important part is to unfold the eigenspectrum. This is done by seperating the large number of eigenvalues into smaller sections and normalize them in their section. Afterwards all eigenvalues are normalized together. "
   ]
  },
  {
   "cell_type": "code",
   "execution_count": null,
   "metadata": {
    "collapsed": true
   },
   "outputs": [],
   "source": []
  }
 ],
 "metadata": {
  "kernelspec": {
   "display_name": "Python 3",
   "language": "python",
   "name": "python3"
  },
  "language_info": {
   "codemirror_mode": {
    "name": "ipython",
    "version": 3
   },
   "file_extension": ".py",
   "mimetype": "text/x-python",
   "name": "python",
   "nbconvert_exporter": "python",
   "pygments_lexer": "ipython3",
   "version": "3.6.0"
  }
 },
 "nbformat": 4,
 "nbformat_minor": 2
}
